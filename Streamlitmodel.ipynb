{
 "cells": [
  {
   "cell_type": "markdown",
   "id": "52deff70",
   "metadata": {},
   "source": [
    "# 1. Compressive strength "
   ]
  },
  {
   "cell_type": "code",
   "execution_count": null,
   "id": "1b046d8c",
   "metadata": {},
   "outputs": [],
   "source": []
  },
  {
   "cell_type": "markdown",
   "id": "f09bf79f",
   "metadata": {},
   "source": [
    "# 2. Tensile strength"
   ]
  },
  {
   "cell_type": "code",
   "execution_count": null,
   "id": "2094f95f",
   "metadata": {},
   "outputs": [],
   "source": []
  },
  {
   "cell_type": "markdown",
   "id": "bddb4205",
   "metadata": {},
   "source": [
    "# 3. Flexural strength"
   ]
  },
  {
   "cell_type": "code",
   "execution_count": 20,
   "id": "ac1dc1ba",
   "metadata": {},
   "outputs": [
    {
     "data": {
      "application/vnd.plotly.v1+json": {
       "config": {
        "plotlyServerURL": "https://plot.ly"
       },
       "data": [
        {
         "dimensions": [
          {
           "label": "Learning Rate",
           "tickformat": ".3f",
           "values": {
            "bdata": "GYVBPOrulT/TvcGli51xP7nF7eW+RVU/1rDNoXEkcT9DlAgEXuJyP2fnpc1YvaA/lE7Ge1Swqz8ZFIKPSXqIP8NAzkvSxHI/oat2t6HJYz8mj4uMzdqLP9Wo/WI7sIo/fEpfH1khhT/f5tPaTlSUP49wI7wIg7Y/r3a+FgK2tj9NdIPK8uy4P5+E7VEEkbc/nT+x3t8zpz8uPdOtgbCtP5rHHOEfLpw/oF64/eEkuT/uE0auTuG3P2ZqX5ynDbA/e8IDJV5ypT9RfqNHSYGwPwulkt8V7qA/j1qE2NlfsT/7Y4X2UvykP2fHrCWzGXs/ITzn85mhlT/ENbKtVoCxP6r77ooxmbE/F9QWvyaZqT+BM+BRDC6zPxAmcQQfXLk/kVYhyDXNmz9E4ZpCwjGzPz9BvowgYlw/lxm2j7jroj80CVY6oEmqPwERmOXGcrk/mTQZRrH4sj8FMITnye6sP6/JlwO4VLU/J22/PzNffT9zyEJgfRC5P/Fp/bkPFWs/l6QIS+D/jz9pqE+1VBlTP5LfCH8cZrQ/B7sUsNrEtD9g4CfANXm0P786WgvJ3rM/KFX/LtRxqz/cBbUx0he1P4UVQ3RebrU/ulrdQim5pz/0PMVnSnSdP3ef7ui8QK4/nbT6I0BIoj9laPh0DHq0P2Odcgs+rrU/YL/pAfPLtD+jQordwqivP2TTVkqm1rU/kLG18Otetj8nTSair9anPyJJynneerA/3nXv8eoMpT+8c4MuXUysP2psSRa8GbQ/BTqdr3VYtT97rzUgTsyxPz4ash4aibY/Gdoj1lXHrz8OYlKxvfC1P/dbvZXE1LE/KF7s6XKktj9y+jgboJGpPzivllOuuLI/dHNyeLwTtj9KLtf9JoCvPz+AH5Ype7k/tKWXLV+JuT/J7ykrzJ+2PxQyBCo7d7E/679JAspBqz9E8NU5Y1S3P3+snOzbxJI/pj2beBmqhD9tA2XrBgO0P/qtsDM5mbk/J7ejZCsRsz/qM9sNVb20P/Y8nIoQSLI/KLL444l5rT/alBcqYviwP0kXjsg26LQ/fcpYdjAHfD8=",
            "dtype": "f8"
           }
          },
          {
           "label": "Depth",
           "tickformat": ".0f",
           "values": {
            "bdata": "AwQDBAMDAwUFAwUFBQUEBAQEBAQEBAQEBAQEBAQDBAQEBAQEAwQDBAUEBAQEBAQDBQQEBAQEBAQEBAUEBAQEBAQEBAQEBAQEBAQEBAQEBAQEBAQEBAQEBAQEBAQEBAQEBAQEBA==",
            "dtype": "i1"
           }
          },
          {
           "label": "Min Data in Leaf",
           "tickformat": ".0f",
           "values": {
            "bdata": "AwMICgEGCAMHCQQEAQUFBQYGBwcEBQUGBggHBgIECQUGBgcHCAkHCggHBwgHCQcDBQYEAwMDAgMDAgEDAgMDAwMEBAIEAgQDAwMEAgMDAQMCAwMCAgEDAgQDAgMDBAIEAwMDAw==",
            "dtype": "i1"
           }
          },
          {
           "label": "L2 Leaf Reg",
           "tickformat": ".3f",
           "values": {
            "bdata": "Um689p0LEEDiOaKIuTkQQPi/2+3CmhFADGeqjXg+CEDvNkDYbbcIQPehs3Fi8xJAB/lhDbhBD0DahapNbo0SQJl8Z3WiagpAGycH4zSbE0BDyBnJZPkRQEc47zteARJA4BOj5xXqEUDKcTughBYRQMKX5Js66RBAhXNa6MtJDUCSWHH/x/sMQAhiF//HugxAHl36Z90gDUCr91vmXmkNQOQ0qJmpkwtA5YCFQqOHDkCeBx9YXUYOQFmBDw/4xwpA8cz6Oc50CkCs97nRmC0LQAenGAcagwlAk0WShtoJD0DLDqzPANULQBcfWlUV5w9AiCMVxkKvEECpBTUebaYOQCcP5YhhPxBAm9M0aF9KDkA6KYxvLI0MQJx2l1qeVwlAepM+ECJ8CUBRCTKv0UwIQNzX040VHAxAfuocS++OCkDew2ivITEJQB/xKKeBBgtAa4cDCOi8CkB7kP6QbmEJQKH+2qEm4AlA+nPthP9CCEC6V8tftLIJQNlXPqQSMQpAxtsEQrEcC0CQ9kLHOO4IQF1YEQMI7wlAcZ7gnkEACEDThY0jC3EIQMX3KERWnwhABGHfqzkUCECisWt3jckIQEDxLrwCjghASb/GgRvRCEAgzQdu3ewIQKcG4R8IAwhAa/S8stfrCUBpkIuju5wIQK7U6Y6VsghAlLdo8XN9CEAEJOT5+MoTQAleYYRKBwhAmq+A8t0ICkBwDknlvwAIQEpthB39/whA1tu9WXJME0APIKtUadQIQAIKGbngdwhAH6xOGgGQCUBF0xTXeKkJQIJ1kFSvMgpAcMvln5dyC0CoYDAJb0kJQIweX8OaSAlAgNegHUiGCkCvO+f8B0sSQGOJd7pEsg1AxeSGf8APCUBq6DGQRlYJQGuQoLCSwglAqrqfEr+6CUDy95EorRAJQGj+KIfeQgpAK0zI3BnKCkAhrChimQAMQHZaisDjnwlA4xaSKNZyC0BdTgE1N4MIQINay7w1LQlAlktKHdBkCECECoNUo8YIQCbz1qSH5QlARMJ2d7kwEUAPUhFbV2QJQOyuUbxkWQhA/oOWSlJjCEA=",
            "dtype": "f8"
           }
          },
          {
           "label": "R²",
           "tickformat": ".3f",
           "values": {
            "bdata": "jv/ZQ1MY0z/vydbYbwrTPw/D2jN6x8E/MZz2xa850z/l47TaX6rSPwL5anHzzNM/kUJulv6Q1D+mq7mdkRDXP9nHnuBNqdQ/nI0GcYJ9zD96jm/qoyvXP3FGDbGkB9c/YCnUpkfr1j+kZPwnDs7XP22gfbIz1dk/1p8q3OdO2j+ADCIO5/naPxP1OcBvJtk/UH4uMRWE2D+ncadCHXnZP+sJYQbv49U/J1KunEvW2z8UOqtbSEvZP2oPg+tGeds/yUliSXnv2D9PFiRPLAjaP1IMp0qT/Nc/I3xQlo112j+PrR3DY2LYP3Sa1hDNvdM/cvqXCbNT1T8jzcYR77XZP0ZdJH9xJ9o/Ezx2Rh471j/WvBLU5D/bP9cQzyej8ds/dhxj7nKJ1j8y2xPA4KPaPwqcnHwSmcc/is6F16jM1z+xnS5HLeLaPzolMx7Fy9s/HkfIttNU2j8vWibTf87YP6tcnN5dN9w/EWDT9MI01T/ZyQpR6FjbP7q7dlBk0tA/MspZ5c9U2D/WUcKCVfnBPyVl8LYwzNs/XdIQBIJC3D/golw+U/3bP93TL55P+Ns/d57RnKY+2D+Uztp2WjzcP5o5mGJf2ts/pDT7urWy2T8kPbcN6MDaP8II/crdqdo/q5IDokw71z8pnUezMDHcPzRi2gaclNw/sAZfHkhe3D/kZv/CoRnYP+Xfl+oVCtw/wRX1Rbfh2z+ymCleFPXYP2qTWQo0L9o/KWD4xSDZ1T9XEA5WtjXZPytJYylv8ts/BPAaM7/l3D99ua7fsSraP5qyjRDDlts/cxtc4bgU2j/OCCMhNNPcP73slVQOKts/Wn/oty+T2j8Kkzz/+5XVPybDA5j+Sto/WXuk8ZFT3D+3cQsDoU7aP22GIXzhYNw/KXhx0Lcf2z8AdeyWovTbPxteirrVMNs/mptDhWaO2D+Fd+4VjFrZPw487kSYV9Y/wSH0Eu9e1T/Q/0PtkmvcPxbTXl2P4ts/GkCJgm/j2z/WyWJN7gTcPyyHFDd3I9w/qqEhHwUG2D+qTpauxYvaPx+Uo81Gv9w/3s/4Hzz/1D8=",
            "dtype": "f8"
           }
          }
         ],
         "line": {
          "cmax": 0.452,
          "cmin": 0.139,
          "color": {
           "bdata": "jv/ZQ1MY0z/vydbYbwrTPw/D2jN6x8E/MZz2xa850z/l47TaX6rSPwL5anHzzNM/kUJulv6Q1D+mq7mdkRDXP9nHnuBNqdQ/nI0GcYJ9zD96jm/qoyvXP3FGDbGkB9c/YCnUpkfr1j+kZPwnDs7XP22gfbIz1dk/1p8q3OdO2j+ADCIO5/naPxP1OcBvJtk/UH4uMRWE2D+ncadCHXnZP+sJYQbv49U/J1KunEvW2z8UOqtbSEvZP2oPg+tGeds/yUliSXnv2D9PFiRPLAjaP1IMp0qT/Nc/I3xQlo112j+PrR3DY2LYP3Sa1hDNvdM/cvqXCbNT1T8jzcYR77XZP0ZdJH9xJ9o/Ezx2Rh471j/WvBLU5D/bP9cQzyej8ds/dhxj7nKJ1j8y2xPA4KPaPwqcnHwSmcc/is6F16jM1z+xnS5HLeLaPzolMx7Fy9s/HkfIttNU2j8vWibTf87YP6tcnN5dN9w/EWDT9MI01T/ZyQpR6FjbP7q7dlBk0tA/MspZ5c9U2D/WUcKCVfnBPyVl8LYwzNs/XdIQBIJC3D/golw+U/3bP93TL55P+Ns/d57RnKY+2D+Uztp2WjzcP5o5mGJf2ts/pDT7urWy2T8kPbcN6MDaP8II/crdqdo/q5IDokw71z8pnUezMDHcPzRi2gaclNw/sAZfHkhe3D/kZv/CoRnYP+Xfl+oVCtw/wRX1Rbfh2z+ymCleFPXYP2qTWQo0L9o/KWD4xSDZ1T9XEA5WtjXZPytJYylv8ts/BPAaM7/l3D99ua7fsSraP5qyjRDDlts/cxtc4bgU2j/OCCMhNNPcP73slVQOKts/Wn/oty+T2j8Kkzz/+5XVPybDA5j+Sto/WXuk8ZFT3D+3cQsDoU7aP22GIXzhYNw/KXhx0Lcf2z8AdeyWovTbPxteirrVMNs/mptDhWaO2D+Fd+4VjFrZPw487kSYV9Y/wSH0Eu9e1T/Q/0PtkmvcPxbTXl2P4ts/GkCJgm/j2z/WyWJN7gTcPyyHFDd3I9w/qqEhHwUG2D+qTpauxYvaPx+Uo81Gv9w/3s/4Hzz/1D8=",
           "dtype": "f8"
          },
          "colorbar": {
           "tickfont": {
            "family": "Times New Roman",
            "size": 20
           },
           "tickformat": ".3f",
           "title": {
            "text": "R²"
           }
          },
          "colorscale": [
           [
            0,
            "#440154"
           ],
           [
            0.1111111111111111,
            "#482878"
           ],
           [
            0.2222222222222222,
            "#3e4989"
           ],
           [
            0.3333333333333333,
            "#31688e"
           ],
           [
            0.4444444444444444,
            "#26828e"
           ],
           [
            0.5555555555555556,
            "#1f9e89"
           ],
           [
            0.6666666666666666,
            "#35b779"
           ],
           [
            0.7777777777777778,
            "#6ece58"
           ],
           [
            0.8888888888888888,
            "#b5de2b"
           ],
           [
            1,
            "#fde725"
           ]
          ],
          "showscale": true
         },
         "type": "parcoords"
        }
       ],
       "layout": {
        "font": {
         "family": "Times New Roman",
         "size": 24
        },
        "height": 500,
        "template": {
         "data": {
          "bar": [
           {
            "error_x": {
             "color": "#2a3f5f"
            },
            "error_y": {
             "color": "#2a3f5f"
            },
            "marker": {
             "line": {
              "color": "#E5ECF6",
              "width": 0.5
             },
             "pattern": {
              "fillmode": "overlay",
              "size": 10,
              "solidity": 0.2
             }
            },
            "type": "bar"
           }
          ],
          "barpolar": [
           {
            "marker": {
             "line": {
              "color": "#E5ECF6",
              "width": 0.5
             },
             "pattern": {
              "fillmode": "overlay",
              "size": 10,
              "solidity": 0.2
             }
            },
            "type": "barpolar"
           }
          ],
          "carpet": [
           {
            "aaxis": {
             "endlinecolor": "#2a3f5f",
             "gridcolor": "white",
             "linecolor": "white",
             "minorgridcolor": "white",
             "startlinecolor": "#2a3f5f"
            },
            "baxis": {
             "endlinecolor": "#2a3f5f",
             "gridcolor": "white",
             "linecolor": "white",
             "minorgridcolor": "white",
             "startlinecolor": "#2a3f5f"
            },
            "type": "carpet"
           }
          ],
          "choropleth": [
           {
            "colorbar": {
             "outlinewidth": 0,
             "ticks": ""
            },
            "type": "choropleth"
           }
          ],
          "contour": [
           {
            "colorbar": {
             "outlinewidth": 0,
             "ticks": ""
            },
            "colorscale": [
             [
              0,
              "#0d0887"
             ],
             [
              0.1111111111111111,
              "#46039f"
             ],
             [
              0.2222222222222222,
              "#7201a8"
             ],
             [
              0.3333333333333333,
              "#9c179e"
             ],
             [
              0.4444444444444444,
              "#bd3786"
             ],
             [
              0.5555555555555556,
              "#d8576b"
             ],
             [
              0.6666666666666666,
              "#ed7953"
             ],
             [
              0.7777777777777778,
              "#fb9f3a"
             ],
             [
              0.8888888888888888,
              "#fdca26"
             ],
             [
              1,
              "#f0f921"
             ]
            ],
            "type": "contour"
           }
          ],
          "contourcarpet": [
           {
            "colorbar": {
             "outlinewidth": 0,
             "ticks": ""
            },
            "type": "contourcarpet"
           }
          ],
          "heatmap": [
           {
            "colorbar": {
             "outlinewidth": 0,
             "ticks": ""
            },
            "colorscale": [
             [
              0,
              "#0d0887"
             ],
             [
              0.1111111111111111,
              "#46039f"
             ],
             [
              0.2222222222222222,
              "#7201a8"
             ],
             [
              0.3333333333333333,
              "#9c179e"
             ],
             [
              0.4444444444444444,
              "#bd3786"
             ],
             [
              0.5555555555555556,
              "#d8576b"
             ],
             [
              0.6666666666666666,
              "#ed7953"
             ],
             [
              0.7777777777777778,
              "#fb9f3a"
             ],
             [
              0.8888888888888888,
              "#fdca26"
             ],
             [
              1,
              "#f0f921"
             ]
            ],
            "type": "heatmap"
           }
          ],
          "histogram": [
           {
            "marker": {
             "pattern": {
              "fillmode": "overlay",
              "size": 10,
              "solidity": 0.2
             }
            },
            "type": "histogram"
           }
          ],
          "histogram2d": [
           {
            "colorbar": {
             "outlinewidth": 0,
             "ticks": ""
            },
            "colorscale": [
             [
              0,
              "#0d0887"
             ],
             [
              0.1111111111111111,
              "#46039f"
             ],
             [
              0.2222222222222222,
              "#7201a8"
             ],
             [
              0.3333333333333333,
              "#9c179e"
             ],
             [
              0.4444444444444444,
              "#bd3786"
             ],
             [
              0.5555555555555556,
              "#d8576b"
             ],
             [
              0.6666666666666666,
              "#ed7953"
             ],
             [
              0.7777777777777778,
              "#fb9f3a"
             ],
             [
              0.8888888888888888,
              "#fdca26"
             ],
             [
              1,
              "#f0f921"
             ]
            ],
            "type": "histogram2d"
           }
          ],
          "histogram2dcontour": [
           {
            "colorbar": {
             "outlinewidth": 0,
             "ticks": ""
            },
            "colorscale": [
             [
              0,
              "#0d0887"
             ],
             [
              0.1111111111111111,
              "#46039f"
             ],
             [
              0.2222222222222222,
              "#7201a8"
             ],
             [
              0.3333333333333333,
              "#9c179e"
             ],
             [
              0.4444444444444444,
              "#bd3786"
             ],
             [
              0.5555555555555556,
              "#d8576b"
             ],
             [
              0.6666666666666666,
              "#ed7953"
             ],
             [
              0.7777777777777778,
              "#fb9f3a"
             ],
             [
              0.8888888888888888,
              "#fdca26"
             ],
             [
              1,
              "#f0f921"
             ]
            ],
            "type": "histogram2dcontour"
           }
          ],
          "mesh3d": [
           {
            "colorbar": {
             "outlinewidth": 0,
             "ticks": ""
            },
            "type": "mesh3d"
           }
          ],
          "parcoords": [
           {
            "line": {
             "colorbar": {
              "outlinewidth": 0,
              "ticks": ""
             }
            },
            "type": "parcoords"
           }
          ],
          "pie": [
           {
            "automargin": true,
            "type": "pie"
           }
          ],
          "scatter": [
           {
            "fillpattern": {
             "fillmode": "overlay",
             "size": 10,
             "solidity": 0.2
            },
            "type": "scatter"
           }
          ],
          "scatter3d": [
           {
            "line": {
             "colorbar": {
              "outlinewidth": 0,
              "ticks": ""
             }
            },
            "marker": {
             "colorbar": {
              "outlinewidth": 0,
              "ticks": ""
             }
            },
            "type": "scatter3d"
           }
          ],
          "scattercarpet": [
           {
            "marker": {
             "colorbar": {
              "outlinewidth": 0,
              "ticks": ""
             }
            },
            "type": "scattercarpet"
           }
          ],
          "scattergeo": [
           {
            "marker": {
             "colorbar": {
              "outlinewidth": 0,
              "ticks": ""
             }
            },
            "type": "scattergeo"
           }
          ],
          "scattergl": [
           {
            "marker": {
             "colorbar": {
              "outlinewidth": 0,
              "ticks": ""
             }
            },
            "type": "scattergl"
           }
          ],
          "scattermap": [
           {
            "marker": {
             "colorbar": {
              "outlinewidth": 0,
              "ticks": ""
             }
            },
            "type": "scattermap"
           }
          ],
          "scattermapbox": [
           {
            "marker": {
             "colorbar": {
              "outlinewidth": 0,
              "ticks": ""
             }
            },
            "type": "scattermapbox"
           }
          ],
          "scatterpolar": [
           {
            "marker": {
             "colorbar": {
              "outlinewidth": 0,
              "ticks": ""
             }
            },
            "type": "scatterpolar"
           }
          ],
          "scatterpolargl": [
           {
            "marker": {
             "colorbar": {
              "outlinewidth": 0,
              "ticks": ""
             }
            },
            "type": "scatterpolargl"
           }
          ],
          "scatterternary": [
           {
            "marker": {
             "colorbar": {
              "outlinewidth": 0,
              "ticks": ""
             }
            },
            "type": "scatterternary"
           }
          ],
          "surface": [
           {
            "colorbar": {
             "outlinewidth": 0,
             "ticks": ""
            },
            "colorscale": [
             [
              0,
              "#0d0887"
             ],
             [
              0.1111111111111111,
              "#46039f"
             ],
             [
              0.2222222222222222,
              "#7201a8"
             ],
             [
              0.3333333333333333,
              "#9c179e"
             ],
             [
              0.4444444444444444,
              "#bd3786"
             ],
             [
              0.5555555555555556,
              "#d8576b"
             ],
             [
              0.6666666666666666,
              "#ed7953"
             ],
             [
              0.7777777777777778,
              "#fb9f3a"
             ],
             [
              0.8888888888888888,
              "#fdca26"
             ],
             [
              1,
              "#f0f921"
             ]
            ],
            "type": "surface"
           }
          ],
          "table": [
           {
            "cells": {
             "fill": {
              "color": "#EBF0F8"
             },
             "line": {
              "color": "white"
             }
            },
            "header": {
             "fill": {
              "color": "#C8D4E3"
             },
             "line": {
              "color": "white"
             }
            },
            "type": "table"
           }
          ]
         },
         "layout": {
          "annotationdefaults": {
           "arrowcolor": "#2a3f5f",
           "arrowhead": 0,
           "arrowwidth": 1
          },
          "autotypenumbers": "strict",
          "coloraxis": {
           "colorbar": {
            "outlinewidth": 0,
            "ticks": ""
           }
          },
          "colorscale": {
           "diverging": [
            [
             0,
             "#8e0152"
            ],
            [
             0.1,
             "#c51b7d"
            ],
            [
             0.2,
             "#de77ae"
            ],
            [
             0.3,
             "#f1b6da"
            ],
            [
             0.4,
             "#fde0ef"
            ],
            [
             0.5,
             "#f7f7f7"
            ],
            [
             0.6,
             "#e6f5d0"
            ],
            [
             0.7,
             "#b8e186"
            ],
            [
             0.8,
             "#7fbc41"
            ],
            [
             0.9,
             "#4d9221"
            ],
            [
             1,
             "#276419"
            ]
           ],
           "sequential": [
            [
             0,
             "#0d0887"
            ],
            [
             0.1111111111111111,
             "#46039f"
            ],
            [
             0.2222222222222222,
             "#7201a8"
            ],
            [
             0.3333333333333333,
             "#9c179e"
            ],
            [
             0.4444444444444444,
             "#bd3786"
            ],
            [
             0.5555555555555556,
             "#d8576b"
            ],
            [
             0.6666666666666666,
             "#ed7953"
            ],
            [
             0.7777777777777778,
             "#fb9f3a"
            ],
            [
             0.8888888888888888,
             "#fdca26"
            ],
            [
             1,
             "#f0f921"
            ]
           ],
           "sequentialminus": [
            [
             0,
             "#0d0887"
            ],
            [
             0.1111111111111111,
             "#46039f"
            ],
            [
             0.2222222222222222,
             "#7201a8"
            ],
            [
             0.3333333333333333,
             "#9c179e"
            ],
            [
             0.4444444444444444,
             "#bd3786"
            ],
            [
             0.5555555555555556,
             "#d8576b"
            ],
            [
             0.6666666666666666,
             "#ed7953"
            ],
            [
             0.7777777777777778,
             "#fb9f3a"
            ],
            [
             0.8888888888888888,
             "#fdca26"
            ],
            [
             1,
             "#f0f921"
            ]
           ]
          },
          "colorway": [
           "#636efa",
           "#EF553B",
           "#00cc96",
           "#ab63fa",
           "#FFA15A",
           "#19d3f3",
           "#FF6692",
           "#B6E880",
           "#FF97FF",
           "#FECB52"
          ],
          "font": {
           "color": "#2a3f5f"
          },
          "geo": {
           "bgcolor": "white",
           "lakecolor": "white",
           "landcolor": "#E5ECF6",
           "showlakes": true,
           "showland": true,
           "subunitcolor": "white"
          },
          "hoverlabel": {
           "align": "left"
          },
          "hovermode": "closest",
          "mapbox": {
           "style": "light"
          },
          "paper_bgcolor": "white",
          "plot_bgcolor": "#E5ECF6",
          "polar": {
           "angularaxis": {
            "gridcolor": "white",
            "linecolor": "white",
            "ticks": ""
           },
           "bgcolor": "#E5ECF6",
           "radialaxis": {
            "gridcolor": "white",
            "linecolor": "white",
            "ticks": ""
           }
          },
          "scene": {
           "xaxis": {
            "backgroundcolor": "#E5ECF6",
            "gridcolor": "white",
            "gridwidth": 2,
            "linecolor": "white",
            "showbackground": true,
            "ticks": "",
            "zerolinecolor": "white"
           },
           "yaxis": {
            "backgroundcolor": "#E5ECF6",
            "gridcolor": "white",
            "gridwidth": 2,
            "linecolor": "white",
            "showbackground": true,
            "ticks": "",
            "zerolinecolor": "white"
           },
           "zaxis": {
            "backgroundcolor": "#E5ECF6",
            "gridcolor": "white",
            "gridwidth": 2,
            "linecolor": "white",
            "showbackground": true,
            "ticks": "",
            "zerolinecolor": "white"
           }
          },
          "shapedefaults": {
           "line": {
            "color": "#2a3f5f"
           }
          },
          "ternary": {
           "aaxis": {
            "gridcolor": "white",
            "linecolor": "white",
            "ticks": ""
           },
           "baxis": {
            "gridcolor": "white",
            "linecolor": "white",
            "ticks": ""
           },
           "bgcolor": "#E5ECF6",
           "caxis": {
            "gridcolor": "white",
            "linecolor": "white",
            "ticks": ""
           }
          },
          "title": {
           "x": 0.05
          },
          "xaxis": {
           "automargin": true,
           "gridcolor": "white",
           "linecolor": "white",
           "ticks": "",
           "title": {
            "standoff": 15
           },
           "zerolinecolor": "white",
           "zerolinewidth": 2
          },
          "yaxis": {
           "automargin": true,
           "gridcolor": "white",
           "linecolor": "white",
           "ticks": "",
           "title": {
            "standoff": 15
           },
           "zerolinecolor": "white",
           "zerolinewidth": 2
          }
         }
        },
        "width": 800
       }
      }
     },
     "metadata": {},
     "output_type": "display_data"
    }
   ],
   "source": [
    "import pandas as pd\n",
    "import plotly.graph_objects as go\n",
    "\n",
    "# === Đọc dữ liệu từ file Excel ===\n",
    "file_path = r\"C:\\Users\\LENOVO\\OneDrive\\01. First paper\\06. Data analysis\\Input data\\Catboost\\fc\\(Optmized)CatBoost_optuna_trials.xlsx\"\n",
    "df = pd.read_excel(file_path).dropna()\n",
    "\n",
    "# === Chọn bảng màu cho biểu đồ ===\n",
    "colorscale = 'Viridis'  # Các lựa chọn khác: 'Plasma', 'Electric', 'Tealrose', 'Jet'\n",
    "\n",
    "# === Tạo biểu đồ Parcoords (KHÔNG có cột trial) ===\n",
    "fig = go.Figure(\n",
    "    data=go.Parcoords(\n",
    "        line=dict(\n",
    "            color=df['R2'],\n",
    "            colorscale=colorscale,\n",
    "            showscale=True,\n",
    "            cmin=round(df['R2'].min(), 3),\n",
    "            cmax=round(df['R2'].max(), 3),\n",
    "            colorbar=dict(\n",
    "                title='R²',\n",
    "                tickformat='.3f',\n",
    "                tickfont=dict(family='Times New Roman', size=20),\n",
    "            )\n",
    "        ),\n",
    "        dimensions=[\n",
    "            dict(label='Learning Rate', values=df['learning_rate'], tickformat='.3f'),\n",
    "            dict(label='Depth', values=df['depth'], tickformat='.0f'),\n",
    "            dict(label='Min Data in Leaf', values=df['min_data_leaf'], tickformat='.0f'),\n",
    "            dict(label='L2 Leaf Reg', values=df['l2_leaf_reg'], tickformat='.3f'),\n",
    "            dict(label='R²', values=df['R2'], tickformat='.3f')\n",
    "        ]\n",
    "    )\n",
    ")\n",
    "\n",
    "# === Cập nhật giao diện ===\n",
    "fig.update_layout(\n",
    "    font=dict(family=\"Times New Roman\", size=24),\n",
    "    width=800,\n",
    "    height=500\n",
    ")\n",
    "\n",
    "# === Hiển thị biểu đồ ===\n",
    "fig.show()\n",
    "\n",
    "# === Lưu biểu đồ dạng ảnh vector SVG ===\n",
    "output_path = r\"C:\\Users\\LENOVO\\OneDrive\\01. First paper\\06. Data analysis\\Results\\official results\\catboost_parallel_FC.svg\"\n",
    "fig.write_image(output_path, width=800, height=500, scale=1)\n"
   ]
  }
 ],
 "metadata": {
  "kernelspec": {
   "display_name": "CONCRETE",
   "language": "python",
   "name": "python3"
  },
  "language_info": {
   "codemirror_mode": {
    "name": "ipython",
    "version": 3
   },
   "file_extension": ".py",
   "mimetype": "text/x-python",
   "name": "python",
   "nbconvert_exporter": "python",
   "pygments_lexer": "ipython3",
   "version": "3.10.18"
  }
 },
 "nbformat": 4,
 "nbformat_minor": 5
}
